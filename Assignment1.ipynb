{
 "cells": [
  {
   "cell_type": "markdown",
   "id": "eb65d0ee",
   "metadata": {},
   "source": [
    "# SENTIMENTAL AI\n",
    "# SnT Summer Project, BCS-IITK\n",
    "## WEEK-1 Assignment-1\n",
    "\n",
    "Reference- https://github.com/casperbh96/Neural-Network-From-Scratch "
   ]
  },
  {
   "cell_type": "markdown",
   "id": "b8aaaaa9",
   "metadata": {},
   "source": [
    "## Neural Networks From Scratch\n",
    "\n",
    "The idea is that we show the very explicit implementation in NumPy, where we have to do much of the work, then afterwards, we switch to the most popular Python packages for building neural networks, to show just how easier it makes our lives.\n",
    "\n",
    "- NumPy\n",
    "- TensorFlow\n",
    "\n",
    "\n",
    "We will focus on the following 4-layer neural network, with fully connected layers in this notebook. Ideally, you can develop further on and improve the NumPy approach, while modifying the layers TensorFlow to use convolutions and filters."
   ]
  },
  {
   "cell_type": "markdown",
   "id": "7c3ef649",
   "metadata": {},
   "source": [
    "### Prepare a Dataset\n",
    "\n",
    "For this walkthrough, we will focus on importing the MNIST dataset and using that as the input to our deep neural networks. Note that this is purely a demonstration of how to make a neural network from scratch, and it is NOT the recommended architecture for solving the MNIST problem."
   ]
  },
  {
   "cell_type": "code",
   "execution_count": 55,
   "id": "2bf3ab63",
   "metadata": {},
   "outputs": [
    {
     "data": {
      "image/png": "[encoded data removed]",
      "text/plain": [
       "<Figure size 1440x144 with 10 Axes>"
      ]
     },
     "metadata": {
      "needs_background": "light"
     },
     "output_type": "display_data"
    }
   ],
   "source": [
    "import tensorflow as tf\n",
    "import matplotlib.pyplot as plt\n",
    "import numpy as np\n",
    "import time\n",
    "\n",
    "# Download the MNIST handwritten digits dataset.\n",
    "(x_train, y_train), (x_test, y_test) = tf.keras.datasets.mnist.load_data()\n",
    "\n",
    "# Visualize some samples.\n",
    "\n",
    "n = 10                               # number of samples\n",
    "plt.figure(figsize=(n*2, 2))\n",
    "for i in range(n):\n",
    "    plt.subplot(1, n, i+1)\n",
    "    plt.imshow(x_train[i], cmap='gray')\n",
    "    plt.title(\"Class {}\".format(y_train[i]))\n",
    "    plt.axis('off')\n",
    "plt.show()\n",
    "\n"
   ]
  },
  {
   "cell_type": "markdown",
   "id": "b0f2325d",
   "metadata": {},
   "source": [
    "#### Preprocess Dataset"
   ]
  },
  {
   "cell_type": "code",
   "execution_count": 68,
   "id": "2a050287",
   "metadata": {},
   "outputs": [
    {
     "data": {
      "text/plain": [
       "((60000, 784),\n",
       " TensorShape([60000, 10]),\n",
       " (10000, 784),\n",
       " TensorShape([10000, 10]))"
      ]
     },
     "execution_count": 68,
     "metadata": {},
     "output_type": "execute_result"
    }
   ],
   "source": [
    "def process_x(x):\n",
    "    x = x/255\n",
    "\n",
    "    x = np.reshape(x,(len(x),784))\n",
    "\n",
    "    assert x.shape[1] == 784\n",
    "\n",
    "    return x\n",
    "\n",
    "def process_y(y):\n",
    "    y = tf.one_hot(y,10)\n",
    "    assert y.shape[1] == 10\n",
    "    return y\n",
    "\n",
    "x_train = process_x(x_train)\n",
    "x_test = process_x(x_test)\n",
    "y_train = process_y(y_train)\n",
    "y_test = process_y(y_test)\n",
    "\n",
    "x_train.shape, y_train.shape, x_test.shape, y_test.shape"
   ]
  },
  {
   "cell_type": "markdown",
   "id": "56e42ed5",
   "metadata": {},
   "source": [
    "### 4-layer Neural Network with NumPy"
   ]
  },
  {
   "cell_type": "code",
   "execution_count": 69,
   "id": "8de771c2",
   "metadata": {},
   "outputs": [],
   "source": [
    "class DeepNeuralNetwork():\n",
    "    def __init__(self, sizes, epochs=10, l_rate=1):\n",
    "        self.sizes = sizes\n",
    "        self.epochs = epochs\n",
    "        self.l_rate = l_rate\n",
    "\n",
    "        # we save all parameters in the neural network in this dictionary\n",
    "        self.params = self.initialization()\n",
    "\n",
    "    def sigmoid(self, x, derivative=False):\n",
    "       \n",
    "        # if derivative is True, return the derivative of the sigmoid function\n",
    "        # else return the sigmoid function\n",
    "        val=1/(1+np.exp(-x))\n",
    "        \n",
    "        \n",
    "\n",
    "        if derivative:\n",
    "            return val*(1-val)\n",
    "        return val\n",
    "\n",
    "    def softmax(self, x, derivative=False):\n",
    "       \n",
    "        # Numerically stable with large exponentials\n",
    "        # if derivative is True, return the derivative of the softmax function\n",
    "        # else return the softmax function\n",
    "        \n",
    "        \n",
    "        exps = np.exp(x - x.max())\n",
    "        s=np.sum(exps,axis=0)\n",
    "        if derivative:\n",
    "            \n",
    "            return (exps/s)*(1-(exps/s))\n",
    "        return exps/s\n",
    "\n",
    "    def initialization(self):\n",
    "        # number of nodes in each layer\n",
    "        input_layer=self.sizes[0]\n",
    "        hidden_1=self.sizes[1]\n",
    "        hidden_2=self.sizes[2]\n",
    "        output_layer=self.sizes[3]\n",
    "\n",
    "        # Initialize weights\n",
    "        # W1 are the weights for hidden layer 1\n",
    "        # W2 are the weights for hidden layer 2\n",
    "        # W3 are the weights for output layer\n",
    "        # you should initialize these weights with random values between 0 and 1\n",
    "        # Hint- use np.random.randn(...)\n",
    "        \n",
    "        params = {\n",
    "            'W1': np.random.randn(hidden_1,input_layer),\n",
    "            'W2': np.random.randn(hidden_2,hidden_1),\n",
    "            'W3': np.random.randn(output_layer,hidden_2)\n",
    "        }\n",
    "\n",
    "        return params\n",
    "\n",
    "    def forward_pass(self, x_train):\n",
    "        '''\n",
    "            Implement the forward pass of the neural network\n",
    "            You should return the output of the neural network on x_train\n",
    "        '''\n",
    "        \n",
    "        params = self.params\n",
    "\n",
    "        # input layer activations becomes sample\n",
    "        params['A0'] = x_train.T\n",
    "    \n",
    "\n",
    "\n",
    "        # input layer to hidden layer 1\n",
    "        params['Z1'] = np.dot(params['W1'],params['A0']) # output of the hidden layer 1 before activation (Hint: you have to just multiply 2 matrices...)\n",
    "        params['A1'] = self.sigmoid(params['Z1'])# output of the hidden layer 1 after activation\n",
    "\n",
    "        # hidden layer 1 to hidden layer 2\n",
    "        params['Z2'] = np.dot(params['W2'],params['A1']) # output of the hidden layer 2 before activation\n",
    "        params['A2'] = self.sigmoid(params['Z2']) # output of the hidden layer 2 after activation\n",
    "\n",
    "        # hidden layer 2 to output layer\n",
    "        params['Z3'] = np.dot(params['W3'],params['A2']) # output of the output layer before activation\n",
    "        params['A3'] = self.softmax(params['Z3']) # output of the output layer after activation\n",
    "    \n",
    "\n",
    "        return params['A3']\n",
    "\n",
    "    def backward_pass(self, y_train, output):\n",
    "        '''\n",
    "            This is the backpropagation algorithm, for calculating the updates\n",
    "            of the neural network's parameters.\n",
    "\n",
    "                  Some warnings you may encounter: \n",
    "                  RuntimeWarning: invalid value encountered in true_divide\n",
    "                  RuntimeWarning: overflow encountered in exp\n",
    "                  RuntimeWarning: overflow encountered in square\n",
    "            This function could be tricky to implement.\n",
    "            Thats why we have provided a solution.\n",
    "            Feel free to implement your own solution.\n",
    "            It must return the updates for the weights.\n",
    "        '''\n",
    "        params = self.params\n",
    "        change_w = {}\n",
    "\n",
    "        # Calculate W3 update\n",
    "        error = 2 * (output - y_train) / output.shape[0] * self.softmax(params['Z3'], derivative=True)\n",
    "        change_w['W3'] = np.outer(error, params['A2'])\n",
    " \n",
    "\n",
    "        # Calculate W2 update\n",
    "        error = np.dot(params['W3'].T, error) * self.sigmoid(params['Z2'], derivative=True)\n",
    "        change_w['W2'] = np.outer(error, params['A1'])\n",
    "   \n",
    "\n",
    "        # Calculate W1 update\n",
    "        error = np.dot(params['W2'].T, error) * self.sigmoid(params['Z1'], derivative=True)\n",
    "        change_w['W1'] = np.outer(error, params['A0'])\n",
    "    \n",
    "        return change_w\n",
    "\n",
    "    def update_network_parameters(self, changes_to_w):\n",
    "        '''\n",
    "            Update network parameters according to update rule from\n",
    "            Stochastic Gradient Descent.\n",
    "\n",
    "            θ = θ - η * ∇J(x, y), \n",
    "                theta θ:            a network parameter (e.g. a weight w)\n",
    "                eta η:              the learning rate\n",
    "                gradient ∇J(x, y):  the gradient of the objective function,\n",
    "                                    i.e. the change for a specific theta θ\n",
    "        '''\n",
    "     \n",
    " \n",
    "        for key, value in changes_to_w.items():\n",
    "           \n",
    "            self.params[key]=self.params[key]-self.l_rate*value\n",
    "            \n",
    " \n",
    "          \n",
    "\n",
    "    def compute_accuracy(self, x_val, y_val):\n",
    "        \n",
    "        '''\n",
    "            This function does a forward pass of x, then checks if the indices\n",
    "            of the maximum value in the output equals the indices in the label\n",
    "            y. Then it sums over each prediction and calculates the accuracy.\n",
    "        '''\n",
    "\n",
    "        predictions = []\n",
    "        for x, y in zip(x_val, y_val):\n",
    "            output = self.forward_pass(x)\n",
    "            pred = np.argmax(output) # get the label of predictions\n",
    "            if pred==np.argmax(y):\n",
    "                predictions.append(1)\n",
    "           \n",
    "       \n",
    "        return sum(predictions)/len(x_val)\n",
    "    \n",
    "\n",
    "    def train(self, x_train, y_train, x_val, y_val):\n",
    "        start_time = time.time()\n",
    "\n",
    "        # Train the network\n",
    "        for iteration in range(self.epochs):\n",
    "        \n",
    "\n",
    "            for x,y in zip(x_train, y_train):\n",
    "               \n",
    "                \n",
    "                \n",
    "                #compute the output of network\n",
    "                output = self.forward_pass(x)\n",
    "\n",
    "                # calculate updates to the network's parameters\n",
    "                changes_to_w = self.backward_pass(y,output)\n",
    "           \n",
    "\n",
    "                self.update_network_parameters(changes_to_w)\n",
    "            \n",
    "            # compute the accuracy on the validation set\n",
    "            accuracy = self.compute_accuracy(x_val, y_val)\n",
    "            print('Epoch: {0}, Time Spent: {1:.2f}s, Accuracy: {2:.2f}%'.format(\n",
    "                iteration+1, time.time() - start_time, accuracy * 100\n",
    "            ))\n",
    "\n",
    "    def predict(self, x_test):\n",
    "        # return the output of the network on x_test\n",
    "        # should return the label [0-9] for each sample in x_test\n",
    "        predictions=[]\n",
    "        for x in x_test:\n",
    "            predictions.append(np.argmax(self.forward_pass(x)))\n",
    "        \n",
    "        return predictions"
   ]
  },
  {
   "cell_type": "markdown",
   "id": "6f5adc3f",
   "metadata": {},
   "source": [
    "### Train and Evaluate the network \n",
    "\n",
    "Completely dependent on how the weights are initialized, we get different results. Sometimes we are stuck at 0% accuracy, sometimes 5-10%, other times it jumps from 22% to 94.5%. If you want to experiment, try using a seed for numpy by `np.random.seed(42)` or any other number. Then you should get the same results each time."
   ]
  },
  {
   "cell_type": "code",
   "execution_count": 70,
   "id": "6dcc0cef",
   "metadata": {},
   "outputs": [
    {
     "name": "stdout",
     "output_type": "stream",
     "text": [
      "Epoch: 1, Time Spent: 25.44s, Accuracy: 65.87%\n",
      "Epoch: 2, Time Spent: 51.01s, Accuracy: 73.47%\n",
      "Epoch: 3, Time Spent: 78.83s, Accuracy: 77.48%\n",
      "Epoch: 4, Time Spent: 107.35s, Accuracy: 78.88%\n",
      "Epoch: 5, Time Spent: 134.87s, Accuracy: 81.88%\n",
      "Epoch: 6, Time Spent: 162.64s, Accuracy: 79.58%\n",
      "Epoch: 7, Time Spent: 191.69s, Accuracy: 81.38%\n",
      "Epoch: 8, Time Spent: 218.46s, Accuracy: 80.58%\n",
      "Epoch: 9, Time Spent: 243.75s, Accuracy: 83.18%\n",
      "Epoch: 10, Time Spent: 275.49s, Accuracy: 84.48%\n"
     ]
    }
   ],
   "source": [
    "np.random.seed(169)\n",
    "# INitialize the network\n",
    "dnn = DeepNeuralNetwork(sizes=[784, 128, 64, 10])\n",
    "\n",
    "# Start the Training!\n",
    "dnn.train(x_train[1:5000], y_train[1:5000], x_test[1:1000],y_test[1:1000])"
   ]
  },
  {
   "cell_type": "code",
   "execution_count": 71,
   "id": "73cca142",
   "metadata": {},
   "outputs": [
    {
     "data": {
      "image/png": "[encoded data removed]",
      "text/plain": [
       "<Figure size 1440x288 with 10 Axes>"
      ]
     },
     "metadata": {
      "needs_background": "light"
     },
     "output_type": "display_data"
    }
   ],
   "source": [
    "# Visualize the results\n",
    "\n",
    "y_pred_np = dnn.predict(x_test)\n",
    "\n",
    "n = 10\n",
    "plt.figure(figsize=(n*2,4))\n",
    "for i in range(n):\n",
    "    plt.subplot(1,n,i+1)\n",
    "    plt.imshow(x_test[i].reshape(28,28), cmap='gray')\n",
    "    plt.axis('off')\n",
    "    plt.title('Prediction: {0}'.format(y_pred_np[i]))"
   ]
  },
  {
   "cell_type": "markdown",
   "id": "e7d29f23",
   "metadata": {},
   "source": [
    "## **TensorFlow** 2.0 with Keras\n",
    "\n",
    "Now that we know just how much code lies behind a simple neural network in NumPy, let's look at how easily we can construct the same network in TensorFlow (with Keras).\n",
    "\n",
    "With TensorFlow and Keras, we don't have to think as much about activation functions, optimizers etc., since they are already implemented. On top of this, we will see huge improvements in the time it takes to execute and train a neural network, since the frameworks are completely optimized compared to NumPy.\n",
    "\n"
   ]
  },
  {
   "cell_type": "code",
   "execution_count": 64,
   "id": "7605dde3",
   "metadata": {},
   "outputs": [],
   "source": [
    "# the layers class is used to define differetn layers in the model\n",
    "from tensorflow.keras import layers\n",
    "(x_train, y_train), (x_test, y_test) = tf.keras.datasets.mnist.load_data()"
   ]
  },
  {
   "cell_type": "code",
   "execution_count": 65,
   "id": "cc0a79b0",
   "metadata": {},
   "outputs": [],
   "source": [
    "# Build the model using tf.keras.Sequential class\n",
    "# You can use other methods to define your model as well\n",
    "\n",
    "model = tf.keras.Sequential([tf.keras.layers.Flatten(input_shape=(28,28)),\n",
    "                              tf.keras.layers.Dense(128, activation='relu'),\n",
    "                              tf.keras.layers.Dense(64, activation='relu'),\n",
    "                              tf.keras.layers.Dense(10, activation='softmax'),\n",
    "                              \n",
    "])\n",
    "\n",
    "# Compiling the moodel involves choosing an optimizer and a loss function and the metric you want to use.\n",
    "model.compile(optimizer= 'adam' ,\n",
    "              loss = tf.keras.losses.SparseCategoricalCrossentropy(from_logits=True),\n",
    "              metrics=['accuracy'])\n",
    "\n",
    "\n"
   ]
  },
  {
   "cell_type": "code",
   "execution_count": 66,
   "id": "b9166009",
   "metadata": {},
   "outputs": [
    {
     "name": "stderr",
     "output_type": "stream",
     "text": [
      "2022-06-10 21:45:52.856947: I tensorflow/compiler/mlir/mlir_graph_optimization_pass.cc:176] None of the MLIR Optimization Passes are enabled (registered 2)\n",
      "2022-06-10 21:45:52.860574: W tensorflow/core/platform/profile_utils/cpu_utils.cc:128] Failed to get CPU frequency: 0 Hz\n",
      "/opt/homebrew/Caskroom/miniforge/base/envs/tensorflow/lib/python3.9/site-packages/tensorflow/python/keras/backend.py:4929: UserWarning: \"`sparse_categorical_crossentropy` received `from_logits=True`, but the `output` argument was produced by a sigmoid or softmax activation and thus does not represent logits. Was this intended?\"\n",
      "  warnings.warn(\n"
     ]
    },
    {
     "name": "stdout",
     "output_type": "stream",
     "text": [
      "Epoch 1/10\n"
     ]
    },
    {
     "name": "stderr",
     "output_type": "stream",
     "text": [
      "2022-06-10 21:45:53.261926: I tensorflow/core/grappler/optimizers/custom_graph_optimizer_registry.cc:112] Plugin optimizer for device_type GPU is enabled.\n"
     ]
    },
    {
     "name": "stdout",
     "output_type": "stream",
     "text": [
      "1872/1875 [============================>.] - ETA: 0s - loss: 1.3435 - accuracy: 0.8229"
     ]
    },
    {
     "name": "stderr",
     "output_type": "stream",
     "text": [
      "2022-06-10 21:46:02.634362: I tensorflow/core/grappler/optimizers/custom_graph_optimizer_registry.cc:112] Plugin optimizer for device_type GPU is enabled.\n"
     ]
    },
    {
     "name": "stdout",
     "output_type": "stream",
     "text": [
      "1875/1875 [==============================] - 11s 4ms/step - loss: 1.3419 - accuracy: 0.8230 - val_loss: 0.4504 - val_accuracy: 0.8977\n",
      "Epoch 2/10\n",
      "1875/1875 [==============================] - 7s 4ms/step - loss: 0.3153 - accuracy: 0.9178 - val_loss: 0.2679 - val_accuracy: 0.9336\n",
      "Epoch 3/10\n",
      "1875/1875 [==============================] - 7s 4ms/step - loss: 0.2170 - accuracy: 0.9421 - val_loss: 0.2717 - val_accuracy: 0.9254\n",
      "Epoch 4/10\n",
      "1875/1875 [==============================] - 8s 4ms/step - loss: 0.1728 - accuracy: 0.9532 - val_loss: 0.1951 - val_accuracy: 0.9480\n",
      "Epoch 5/10\n",
      "1875/1875 [==============================] - 8s 4ms/step - loss: 0.1402 - accuracy: 0.9619 - val_loss: 0.1761 - val_accuracy: 0.9537\n",
      "Epoch 6/10\n",
      "1875/1875 [==============================] - 8s 4ms/step - loss: 0.1258 - accuracy: 0.9662 - val_loss: 0.1407 - val_accuracy: 0.9630\n",
      "Epoch 7/10\n",
      "1875/1875 [==============================] - 8s 4ms/step - loss: 0.1086 - accuracy: 0.9708 - val_loss: 0.1379 - val_accuracy: 0.9667\n",
      "Epoch 8/10\n",
      "1875/1875 [==============================] - 7s 4ms/step - loss: 0.1062 - accuracy: 0.9719 - val_loss: 0.1620 - val_accuracy: 0.9578\n",
      "Epoch 9/10\n",
      "1875/1875 [==============================] - 8s 4ms/step - loss: 0.0944 - accuracy: 0.9752 - val_loss: 0.1464 - val_accuracy: 0.9662\n",
      "Epoch 10/10\n",
      "1875/1875 [==============================] - 8s 4ms/step - loss: 0.0855 - accuracy: 0.9779 - val_loss: 0.1520 - val_accuracy: 0.9672\n"
     ]
    },
    {
     "data": {
      "text/plain": [
       "<tensorflow.python.keras.callbacks.History at 0x55450ab50>"
      ]
     },
     "execution_count": 66,
     "metadata": {},
     "output_type": "execute_result"
    }
   ],
   "source": [
    "# Thats it! You can now start the training.\n",
    "model.fit(x_train, y_train, epochs=10, validation_data=(x_test, y_test))"
   ]
  },
  {
   "cell_type": "code",
   "execution_count": 67,
   "id": "e8c66834",
   "metadata": {},
   "outputs": [
    {
     "name": "stderr",
     "output_type": "stream",
     "text": [
      "2022-06-10 21:47:16.913081: I tensorflow/core/grappler/optimizers/custom_graph_optimizer_registry.cc:112] Plugin optimizer for device_type GPU is enabled.\n"
     ]
    },
    {
     "data": {
      "image/png": "[encoded data removed]",
      "text/plain": [
       "<Figure size 1440x288 with 10 Axes>"
      ]
     },
     "metadata": {
      "needs_background": "light"
     },
     "output_type": "display_data"
    }
   ],
   "source": [
    "# Visualize the results\n",
    "\n",
    "y_pred_tf = np.argmax(model.predict(x_test),axis=1)\n",
    "\n",
    "n = 10\n",
    "plt.figure(figsize=(n*2,4))\n",
    "for i in range(n):\n",
    "    plt.subplot(1,n,i+1)\n",
    "    plt.imshow(x_test[i].reshape(28,28), cmap='gray')\n",
    "    plt.axis('off')\n",
    "    plt.title('Prediction: {0}'.format(y_pred_tf[i]))"
   ]
  },
  {
   "cell_type": "markdown",
   "id": "a83d2676",
   "metadata": {},
   "source": [
    "Write the answers for the following questions in the markdown cell (double click cell to edit) below-\n",
    "\n",
    "### Questions:\n",
    "\n",
    "- Why the accuracy of the keras model is higher than our numpy model? (Hint: there is a important factor not implemented in numpy model..) \n",
    "\n",
    "ANS: Numpy weights are random, while keras weights are not\n",
    "- List down all factors due to which numpy model is slow. \n",
    "\n",
    "ANS: Numpy has to calculate differentiation each time, unlike keras\n",
    "- Is the model overfitting? underfitting? explain. \n",
    "\n",
    "ANS: It is underfitting (numpy model) as the accuracy is low"
   ]
  },
  {
   "cell_type": "code",
   "execution_count": null,
   "id": "999c1312",
   "metadata": {},
   "outputs": [],
   "source": []
  }
 ],
 "metadata": {
  "kernelspec": {
   "display_name": "Python 3.9 (tensorflow)",
   "language": "python",
   "name": "tensorflow"
  },
  "language_info": {
   "codemirror_mode": {
    "name": "ipython",
    "version": 3
   },
   "file_extension": ".py",
   "mimetype": "text/x-python",
   "name": "python",
   "nbconvert_exporter": "python",
   "pygments_lexer": "ipython3",
   "version": "3.9.7"
  }
 },
 "nbformat": 4,
 "nbformat_minor": 5
}
