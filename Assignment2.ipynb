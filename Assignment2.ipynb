{
  "nbformat": 4,
  "nbformat_minor": 0,
  "metadata": {
    "colab": {
      "name": "SentimentalAI-Assignment2.ipynb",
      "provenance": [],
      "collapsed_sections": []
    },
    "kernelspec": {
      "name": "python3",
      "display_name": "Python 3"
    },
    "language_info": {
      "name": "python"
    },
    "gpuClass": "standard"
  },
  "cells": [
    {
      "cell_type": "markdown",
      "source": [
        "# SENTIMENTAL AI\n",
        "# SnT Summer Project, BCS-IITK\n",
        "## Assignment-2\n",
        "\n",
        "Reference- https://github.com/07Agarg/Natural-Language-Processing-In-Tensorflow-Course/blob/master/Week%204/NLP_Week4_Exercise_Shakespeare_Question.ipynb "
      ],
      "metadata": {
        "id": "uKOZJpSejuwQ"
      }
    },
    {
      "cell_type": "code",
      "execution_count": null,
      "metadata": {
        "id": "UbboSp2kgxU2"
      },
      "outputs": [],
      "source": [
        "from tensorflow.keras.preprocessing.sequence import pad_sequences\n",
        "from tensorflow.keras.layers import Embedding, LSTM, Dense, Dropout, Bidirectional\n",
        "from tensorflow.keras.preprocessing.text import Tokenizer\n",
        "from tensorflow.keras.models import Sequential\n",
        "from tensorflow.keras.optimizers import Adam\n",
        "from tensorflow.keras.regularizers import Regularizer\n",
        "import tensorflow.keras.utils as ku \n",
        "import numpy as np "
      ]
    },
    {
      "cell_type": "code",
      "source": [
        "tokenizer = Tokenizer()\n",
        "!wget --no-check-certificate \\\n",
        "    https://storage.googleapis.com/laurencemoroney-blog.appspot.com/sonnets.txt \\\n",
        "    -O /tmp/sonnets.txt\n",
        "data = open('/tmp/sonnets.txt').read()\n",
        "\n",
        "\n",
        "\n",
        "\n",
        "corpus = data.lower().split(\"\\n\")  #convert to lower case and then split the data on '\\n' to create a corpus of lines\n",
        "\n",
        "tokenizer.fit_on_texts(corpus) #fit the tokenizer on the corpus\n",
        "total_words = len(tokenizer.word_index) + 1\n",
        "\n",
        "\n",
        "\n",
        "# create input sequences using list of tokens\n",
        "input_sequences = []\n",
        "for line in corpus:\n",
        "\ttoken_list = tokenizer.texts_to_sequences([line])[0]\n",
        "\tfor i in range(1, len(token_list)):\n",
        "\t\tn_gram_sequence = token_list[:i+1]\n",
        "\t\tinput_sequences.append(n_gram_sequence)\n",
        "\n",
        "\n",
        "# pad sequences \n",
        "mx=0\n",
        "for sentence in input_sequences:\n",
        "    if len(sentence)>mx:\n",
        "        mx=len(sentence)\n",
        "max_sequence_len = mx\n",
        "input_sequences = pad_sequences(input_sequences, maxlen=mx, padding='pre')\n",
        "\n",
        "# create predictors and label\n",
        "predictors, label = input_sequences[:,:-1],input_sequences[:,-1]\n",
        "\n",
        "label = ku.to_categorical(label, num_classes=total_words)"
      ],
      "metadata": {
        "colab": {
          "base_uri": "https://localhost:8080/"
        },
        "id": "bjKVL_nyg6EX",
        "outputId": "33e9ccc3-daff-4604-8bca-a6a093e57037"
      },
      "execution_count": null,
      "outputs": [
        {
          "output_type": "stream",
          "name": "stdout",
          "text": [
            "--2022-06-17 13:34:55--  https://storage.googleapis.com/laurencemoroney-blog.appspot.com/sonnets.txt\n",
            "Resolving storage.googleapis.com (storage.googleapis.com)... 142.250.73.240, 172.217.164.176, 142.251.45.16, ...\n",
            "Connecting to storage.googleapis.com (storage.googleapis.com)|142.250.73.240|:443... connected.\n",
            "HTTP request sent, awaiting response... 200 OK\n",
            "Length: 93578 (91K) [text/plain]\n",
            "Saving to: ‘/tmp/sonnets.txt’\n",
            "\n",
            "\r/tmp/sonnets.txt      0%[                    ]       0  --.-KB/s               \r/tmp/sonnets.txt    100%[===================>]  91.38K  --.-KB/s    in 0.001s  \n",
            "\n",
            "2022-06-17 13:34:55 (92.6 MB/s) - ‘/tmp/sonnets.txt’ saved [93578/93578]\n",
            "\n"
          ]
        }
      ]
    },
    {
      "cell_type": "code",
      "source": [
        "model = Sequential()\n",
        "model.add(Embedding(total_words, 100, input_length=max_sequence_len-1))  #(# Your Embedding Layer)\n",
        "model.add(Bidirectional(LSTM(54, return_sequences=True)))  #(# A Bidirectional LSTM Layer)\n",
        "model.add(Dropout(0.2))  #(# A dropout layer)\n",
        "model.add(LSTM(64))  #(# Another LSTM Layer)\n",
        "model.add(Dense(total_words/2, activation='relu'))  #(# A Dense Layer including regularizers)\n",
        "model.add(Dense(total_words, activation='softmax'))  #(# A Dense Layer)\n",
        "# Pick an optimizer\n",
        "model.compile(loss='categorical_crossentropy', optimizer='adam', metrics='accuracy')  #(# Pick a loss function and an optimizer)\n",
        "print(model.summary()) #print model summary"
      ],
      "metadata": {
        "id": "6GnoE7fchEp6",
        "colab": {
          "base_uri": "https://localhost:8080/"
        },
        "outputId": "5e5e5d03-809c-45f3-8e67-c367d039c09e"
      },
      "execution_count": null,
      "outputs": [
        {
          "output_type": "stream",
          "name": "stdout",
          "text": [
            "Model: \"sequential\"\n",
            "_________________________________________________________________\n",
            " Layer (type)                Output Shape              Param #   \n",
            "=================================================================\n",
            " embedding (Embedding)       (None, 10, 100)           321100    \n",
            "                                                                 \n",
            " bidirectional (Bidirectiona  (None, 10, 108)          66960     \n",
            " l)                                                              \n",
            "                                                                 \n",
            " dropout (Dropout)           (None, 10, 108)           0         \n",
            "                                                                 \n",
            " lstm_1 (LSTM)               (None, 64)                44288     \n",
            "                                                                 \n",
            " dense (Dense)               (None, 1605)              104325    \n",
            "                                                                 \n",
            " dense_1 (Dense)             (None, 3211)              5156866   \n",
            "                                                                 \n",
            "=================================================================\n",
            "Total params: 5,693,539\n",
            "Trainable params: 5,693,539\n",
            "Non-trainable params: 0\n",
            "_________________________________________________________________\n",
            "None\n"
          ]
        }
      ]
    },
    {
      "cell_type": "code",
      "source": [
        " history = model.fit(predictors, label, epochs=100, verbose=1) #change the number of epochs after observing the plots later on at the point where the accuracy saturates"
      ],
      "metadata": {
        "id": "Se-rEkushRht",
        "colab": {
          "base_uri": "https://localhost:8080/"
        },
        "outputId": "e6cc0f84-be7f-4ac5-a7e3-91e3cef8dd77"
      },
      "execution_count": null,
      "outputs": [
        {
          "output_type": "stream",
          "name": "stdout",
          "text": [
            "Epoch 1/100\n",
            "484/484 [==============================] - 13s 9ms/step - loss: 6.8404 - accuracy: 0.0255\n",
            "Epoch 2/100\n",
            "484/484 [==============================] - 4s 9ms/step - loss: 6.4309 - accuracy: 0.0310\n",
            "Epoch 3/100\n",
            "484/484 [==============================] - 4s 9ms/step - loss: 6.2262 - accuracy: 0.0365\n",
            "Epoch 4/100\n",
            "484/484 [==============================] - 4s 9ms/step - loss: 6.0238 - accuracy: 0.0433\n",
            "Epoch 5/100\n",
            "484/484 [==============================] - 5s 10ms/step - loss: 5.7705 - accuracy: 0.0515\n",
            "Epoch 6/100\n",
            "484/484 [==============================] - 4s 9ms/step - loss: 5.4828 - accuracy: 0.0676\n",
            "Epoch 7/100\n",
            "484/484 [==============================] - 4s 9ms/step - loss: 5.1864 - accuracy: 0.0799\n",
            "Epoch 8/100\n",
            "484/484 [==============================] - 4s 9ms/step - loss: 4.8909 - accuracy: 0.0940\n",
            "Epoch 9/100\n",
            "484/484 [==============================] - 4s 9ms/step - loss: 4.5813 - accuracy: 0.1109\n",
            "Epoch 10/100\n",
            "484/484 [==============================] - 4s 9ms/step - loss: 4.2613 - accuracy: 0.1368\n",
            "Epoch 11/100\n",
            "484/484 [==============================] - 4s 9ms/step - loss: 3.9204 - accuracy: 0.1731\n",
            "Epoch 12/100\n",
            "484/484 [==============================] - 4s 9ms/step - loss: 3.5939 - accuracy: 0.2172\n",
            "Epoch 13/100\n",
            "484/484 [==============================] - 4s 9ms/step - loss: 3.2769 - accuracy: 0.2698\n",
            "Epoch 14/100\n",
            "484/484 [==============================] - 4s 9ms/step - loss: 2.9822 - accuracy: 0.3176\n",
            "Epoch 15/100\n",
            "484/484 [==============================] - 4s 9ms/step - loss: 2.6974 - accuracy: 0.3739\n",
            "Epoch 16/100\n",
            "484/484 [==============================] - 4s 9ms/step - loss: 2.4670 - accuracy: 0.4173\n",
            "Epoch 17/100\n",
            "484/484 [==============================] - 4s 9ms/step - loss: 2.2610 - accuracy: 0.4586\n",
            "Epoch 18/100\n",
            "484/484 [==============================] - 4s 9ms/step - loss: 2.0759 - accuracy: 0.4978\n",
            "Epoch 19/100\n",
            "484/484 [==============================] - 4s 9ms/step - loss: 1.9148 - accuracy: 0.5338\n",
            "Epoch 20/100\n",
            "484/484 [==============================] - 5s 10ms/step - loss: 1.7705 - accuracy: 0.5686\n",
            "Epoch 21/100\n",
            "484/484 [==============================] - 4s 9ms/step - loss: 1.6482 - accuracy: 0.5874\n",
            "Epoch 22/100\n",
            "484/484 [==============================] - 4s 9ms/step - loss: 1.5290 - accuracy: 0.6173\n",
            "Epoch 23/100\n",
            "484/484 [==============================] - 4s 9ms/step - loss: 1.4325 - accuracy: 0.6398\n",
            "Epoch 24/100\n",
            "484/484 [==============================] - 4s 9ms/step - loss: 1.3457 - accuracy: 0.6638\n",
            "Epoch 25/100\n",
            "484/484 [==============================] - 4s 9ms/step - loss: 1.2633 - accuracy: 0.6796\n",
            "Epoch 26/100\n",
            "484/484 [==============================] - 4s 9ms/step - loss: 1.1942 - accuracy: 0.6980\n",
            "Epoch 27/100\n",
            "484/484 [==============================] - 4s 9ms/step - loss: 1.1366 - accuracy: 0.7119\n",
            "Epoch 28/100\n",
            "484/484 [==============================] - 4s 9ms/step - loss: 1.0733 - accuracy: 0.7272\n",
            "Epoch 29/100\n",
            "484/484 [==============================] - 4s 9ms/step - loss: 1.0161 - accuracy: 0.7396\n",
            "Epoch 30/100\n",
            "484/484 [==============================] - 4s 9ms/step - loss: 0.9819 - accuracy: 0.7499\n",
            "Epoch 31/100\n",
            "484/484 [==============================] - 4s 9ms/step - loss: 0.9543 - accuracy: 0.7531\n",
            "Epoch 32/100\n",
            "484/484 [==============================] - 4s 9ms/step - loss: 0.9046 - accuracy: 0.7701\n",
            "Epoch 33/100\n",
            "484/484 [==============================] - 4s 9ms/step - loss: 0.8757 - accuracy: 0.7745\n",
            "Epoch 34/100\n",
            "484/484 [==============================] - 4s 9ms/step - loss: 0.8642 - accuracy: 0.7749\n",
            "Epoch 35/100\n",
            "484/484 [==============================] - 4s 9ms/step - loss: 0.8151 - accuracy: 0.7911\n",
            "Epoch 36/100\n",
            "484/484 [==============================] - 4s 9ms/step - loss: 0.8023 - accuracy: 0.7912\n",
            "Epoch 37/100\n",
            "484/484 [==============================] - 4s 9ms/step - loss: 0.7763 - accuracy: 0.7976\n",
            "Epoch 38/100\n",
            "484/484 [==============================] - 4s 9ms/step - loss: 0.7673 - accuracy: 0.8009\n",
            "Epoch 39/100\n",
            "484/484 [==============================] - 4s 9ms/step - loss: 0.7485 - accuracy: 0.8064\n",
            "Epoch 40/100\n",
            "484/484 [==============================] - 4s 9ms/step - loss: 0.7383 - accuracy: 0.8056\n",
            "Epoch 41/100\n",
            "484/484 [==============================] - 4s 9ms/step - loss: 0.7112 - accuracy: 0.8127\n",
            "Epoch 42/100\n",
            "484/484 [==============================] - 4s 9ms/step - loss: 0.7244 - accuracy: 0.8088\n",
            "Epoch 43/100\n",
            "484/484 [==============================] - 4s 9ms/step - loss: 0.6995 - accuracy: 0.8163\n",
            "Epoch 44/100\n",
            "484/484 [==============================] - 4s 9ms/step - loss: 0.6944 - accuracy: 0.8150\n",
            "Epoch 45/100\n",
            "484/484 [==============================] - 4s 9ms/step - loss: 0.6764 - accuracy: 0.8203\n",
            "Epoch 46/100\n",
            "484/484 [==============================] - 4s 9ms/step - loss: 0.6745 - accuracy: 0.8212\n",
            "Epoch 47/100\n",
            "484/484 [==============================] - 4s 9ms/step - loss: 0.6642 - accuracy: 0.8205\n",
            "Epoch 48/100\n",
            "484/484 [==============================] - 4s 9ms/step - loss: 0.6521 - accuracy: 0.8251\n",
            "Epoch 49/100\n",
            "484/484 [==============================] - 4s 9ms/step - loss: 0.6413 - accuracy: 0.8276\n",
            "Epoch 50/100\n",
            "484/484 [==============================] - 4s 9ms/step - loss: 0.6516 - accuracy: 0.8246\n",
            "Epoch 51/100\n",
            "484/484 [==============================] - 4s 9ms/step - loss: 0.6499 - accuracy: 0.8236\n",
            "Epoch 52/100\n",
            "484/484 [==============================] - 4s 9ms/step - loss: 0.6340 - accuracy: 0.8287\n",
            "Epoch 53/100\n",
            "484/484 [==============================] - 4s 9ms/step - loss: 0.6285 - accuracy: 0.8280\n",
            "Epoch 54/100\n",
            "484/484 [==============================] - 4s 9ms/step - loss: 0.6241 - accuracy: 0.8298\n",
            "Epoch 55/100\n",
            "484/484 [==============================] - 4s 9ms/step - loss: 0.6254 - accuracy: 0.8300\n",
            "Epoch 56/100\n",
            "484/484 [==============================] - 4s 9ms/step - loss: 0.6164 - accuracy: 0.8320\n",
            "Epoch 57/100\n",
            "484/484 [==============================] - 4s 9ms/step - loss: 0.6272 - accuracy: 0.8283\n",
            "Epoch 58/100\n",
            "484/484 [==============================] - 4s 9ms/step - loss: 0.5982 - accuracy: 0.8348\n",
            "Epoch 59/100\n",
            "484/484 [==============================] - 4s 9ms/step - loss: 0.5998 - accuracy: 0.8345\n",
            "Epoch 60/100\n",
            "484/484 [==============================] - 4s 9ms/step - loss: 0.5929 - accuracy: 0.8336\n",
            "Epoch 61/100\n",
            "484/484 [==============================] - 4s 9ms/step - loss: 0.5893 - accuracy: 0.8356\n",
            "Epoch 62/100\n",
            "484/484 [==============================] - 4s 9ms/step - loss: 0.5970 - accuracy: 0.8340\n",
            "Epoch 63/100\n",
            "484/484 [==============================] - 4s 9ms/step - loss: 0.6000 - accuracy: 0.8346\n",
            "Epoch 64/100\n",
            "484/484 [==============================] - 4s 9ms/step - loss: 0.5975 - accuracy: 0.8300\n",
            "Epoch 65/100\n",
            "484/484 [==============================] - 4s 9ms/step - loss: 0.5869 - accuracy: 0.8354\n",
            "Epoch 66/100\n",
            "484/484 [==============================] - 4s 9ms/step - loss: 0.5884 - accuracy: 0.8342\n",
            "Epoch 67/100\n",
            "484/484 [==============================] - 4s 9ms/step - loss: 0.5782 - accuracy: 0.8354\n",
            "Epoch 68/100\n",
            "484/484 [==============================] - 4s 9ms/step - loss: 0.5702 - accuracy: 0.8382\n",
            "Epoch 69/100\n",
            "484/484 [==============================] - 4s 9ms/step - loss: 0.5667 - accuracy: 0.8401\n",
            "Epoch 70/100\n",
            "484/484 [==============================] - 4s 9ms/step - loss: 0.5710 - accuracy: 0.8384\n",
            "Epoch 71/100\n",
            "484/484 [==============================] - 4s 9ms/step - loss: 0.5700 - accuracy: 0.8386\n",
            "Epoch 72/100\n",
            "484/484 [==============================] - 4s 9ms/step - loss: 0.5745 - accuracy: 0.8344\n",
            "Epoch 73/100\n",
            "484/484 [==============================] - 4s 9ms/step - loss: 0.5708 - accuracy: 0.8357\n",
            "Epoch 74/100\n",
            "484/484 [==============================] - 4s 9ms/step - loss: 0.5684 - accuracy: 0.8381\n",
            "Epoch 75/100\n",
            "484/484 [==============================] - 4s 9ms/step - loss: 0.5662 - accuracy: 0.8371\n",
            "Epoch 76/100\n",
            "484/484 [==============================] - 4s 9ms/step - loss: 0.5644 - accuracy: 0.8395\n",
            "Epoch 77/100\n",
            "484/484 [==============================] - 4s 9ms/step - loss: 0.5536 - accuracy: 0.8411\n",
            "Epoch 78/100\n",
            "484/484 [==============================] - 4s 9ms/step - loss: 0.5551 - accuracy: 0.8402\n",
            "Epoch 79/100\n",
            "484/484 [==============================] - 4s 9ms/step - loss: 0.5532 - accuracy: 0.8412\n",
            "Epoch 80/100\n",
            "484/484 [==============================] - 4s 9ms/step - loss: 0.5489 - accuracy: 0.8414\n",
            "Epoch 81/100\n",
            "484/484 [==============================] - 5s 10ms/step - loss: 0.5526 - accuracy: 0.8405\n",
            "Epoch 82/100\n",
            "484/484 [==============================] - 4s 9ms/step - loss: 0.5528 - accuracy: 0.8400\n",
            "Epoch 83/100\n",
            "484/484 [==============================] - 4s 9ms/step - loss: 0.5409 - accuracy: 0.8438\n",
            "Epoch 84/100\n",
            "484/484 [==============================] - 4s 9ms/step - loss: 0.5563 - accuracy: 0.8386\n",
            "Epoch 85/100\n",
            "484/484 [==============================] - 4s 9ms/step - loss: 0.5543 - accuracy: 0.8383\n",
            "Epoch 86/100\n",
            "484/484 [==============================] - 4s 9ms/step - loss: 0.5432 - accuracy: 0.8412\n",
            "Epoch 87/100\n",
            "484/484 [==============================] - 4s 9ms/step - loss: 0.5442 - accuracy: 0.8415\n",
            "Epoch 88/100\n",
            "484/484 [==============================] - 4s 9ms/step - loss: 0.5444 - accuracy: 0.8406\n",
            "Epoch 89/100\n",
            "484/484 [==============================] - 4s 9ms/step - loss: 0.5421 - accuracy: 0.8411\n",
            "Epoch 90/100\n",
            "484/484 [==============================] - 4s 9ms/step - loss: 0.5290 - accuracy: 0.8432\n",
            "Epoch 91/100\n",
            "484/484 [==============================] - 4s 9ms/step - loss: 0.5288 - accuracy: 0.8452\n",
            "Epoch 92/100\n",
            "484/484 [==============================] - 4s 9ms/step - loss: 0.5470 - accuracy: 0.8408\n",
            "Epoch 93/100\n",
            "484/484 [==============================] - 4s 9ms/step - loss: 0.5524 - accuracy: 0.8397\n",
            "Epoch 94/100\n",
            "484/484 [==============================] - 4s 9ms/step - loss: 0.5435 - accuracy: 0.8428\n",
            "Epoch 95/100\n",
            "484/484 [==============================] - 4s 9ms/step - loss: 0.5346 - accuracy: 0.8422\n",
            "Epoch 96/100\n",
            "484/484 [==============================] - 4s 9ms/step - loss: 0.5196 - accuracy: 0.8461\n",
            "Epoch 97/100\n",
            "484/484 [==============================] - 4s 9ms/step - loss: 0.5244 - accuracy: 0.8455\n",
            "Epoch 98/100\n",
            "484/484 [==============================] - 4s 9ms/step - loss: 0.5380 - accuracy: 0.8431\n",
            "Epoch 99/100\n",
            "484/484 [==============================] - 4s 9ms/step - loss: 0.5373 - accuracy: 0.8415\n",
            "Epoch 100/100\n",
            "484/484 [==============================] - 4s 9ms/step - loss: 0.5343 - accuracy: 0.8427\n"
          ]
        }
      ]
    },
    {
      "cell_type": "code",
      "source": [
        "import matplotlib.pyplot as plt\n",
        "acc = history.history['accuracy']\n",
        "loss = history.history['loss']\n",
        "\n",
        "epochs = range(len(acc))\n",
        "\n",
        "plt.plot(epochs, acc, 'b', label='Training accuracy')\n",
        "plt.title('Training accuracy')\n",
        "\n",
        "plt.figure()\n",
        "\n",
        "plt.plot(epochs, loss, 'b', label='Training Loss')\n",
        "plt.title('Training loss')\n",
        "plt.legend()\n",
        "\n",
        "plt.show()"
      ],
      "metadata": {
        "id": "HMq2MUuohVAw",
        "colab": {
          "base_uri": "https://localhost:8080/",
          "height": 545
        },
        "outputId": "767082a2-9e2b-463d-b6d2-83e4f9121ee0"
      },
      "execution_count": null,
      "outputs": [
        {
          "output_type": "display_data",
          "data": {
            "text/plain": [
              "<Figure size 432x288 with 1 Axes>"
            ],
            "image/png": "[encoded data removed]"
          },
          "metadata": {
            "needs_background": "light"
          }
        },
        {
          "output_type": "display_data",
          "data": {
            "text/plain": [
              "<Figure size 432x288 with 1 Axes>"
            ],
            "image/png": "[encoded data removed]"
          },
          "metadata": {
            "needs_background": "light"
          }
        }
      ]
    },
    {
      "cell_type": "code",
      "source": [
        "seed_text = \"The clouds are in the \"\n",
        "next_words = 5 #Play with this quantity to change the number of words you want to see in the output after the seed_text\n",
        "\n",
        "for _ in range(next_words):\n",
        "  token_list = tokenizer.texts_to_sequences([seed_text])[0]\n",
        "  token_list = pad_sequences([token_list], maxlen=max_sequence_len-1, padding='pre')\n",
        "  predict_x = model.predict(token_list)\n",
        "  classes_x = np.argmax(predict_x, axis=1)\n",
        "  output_word = \"\"\n",
        "  for word, index in tokenizer.word_index.items():\n",
        "    if index == classes_x:\n",
        "      output_word = word\n",
        "      break\n",
        "  seed_text += \" \" + output_word\n",
        "print(seed_text)"
      ],
      "metadata": {
        "id": "j5Q2VQek4ebV",
        "colab": {
          "base_uri": "https://localhost:8080/"
        },
        "outputId": "fffc1f24-3030-47b1-bb25-cdbd696e8d29"
      },
      "execution_count": null,
      "outputs": [
        {
          "output_type": "stream",
          "name": "stdout",
          "text": [
            "The clouds are in the  other and my pupil pen\n"
          ]
        }
      ]
    }
  ]
}